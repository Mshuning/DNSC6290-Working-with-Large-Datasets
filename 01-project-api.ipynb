{
 "cells": [
  {
   "cell_type": "code",
   "execution_count": 0,
   "metadata": {
    "application/vnd.databricks.v1+cell": {
     "inputWidgets": {},
     "nuid": "9bb2ed39-cabc-4b88-bf55-60219ddfe71d",
     "showTitle": false,
     "title": ""
    }
   },
   "outputs": [
    {
     "data": {
      "text/html": [
       "<style scoped>\n",
       "  .ansiout {\n",
       "    display: block;\n",
       "    unicode-bidi: embed;\n",
       "    white-space: pre-wrap;\n",
       "    word-wrap: break-word;\n",
       "    word-break: break-all;\n",
       "    font-family: \"Source Code Pro\", \"Menlo\", monospace;;\n",
       "    font-size: 13px;\n",
       "    color: #555;\n",
       "    margin-left: 4px;\n",
       "    line-height: 19px;\n",
       "  }\n",
       "</style>\n",
       "<div class=\"ansiout\">Out[13]: </div>"
      ]
     },
     "metadata": {
      "application/vnd.databricks.v1+output": {
       "addedWidgets": {},
       "arguments": {},
       "data": "<div class=\"ansiout\">Out[13]: </div>",
       "datasetInfos": [],
       "metadata": {},
       "removedWidgets": [],
       "type": "html"
      }
     },
     "output_type": "display_data"
    },
    {
     "data": {
      "text/html": [
       "\n",
       "            <div>\n",
       "                <p><b>SparkSession - hive</b></p>\n",
       "                \n",
       "        <div>\n",
       "            <p><b>SparkContext</b></p>\n",
       "\n",
       "            <p><a href=\"/?o=409542029677081#setting/sparkui/0621-171819-rcvuw8hn/driver-7852679291787624063\">Spark UI</a></p>\n",
       "\n",
       "            <dl>\n",
       "              <dt>Version</dt>\n",
       "                <dd><code>v3.2.1</code></dd>\n",
       "              <dt>Master</dt>\n",
       "                <dd><code>spark://10.139.64.4:7077</code></dd>\n",
       "              <dt>AppName</dt>\n",
       "                <dd><code>Databricks Shell</code></dd>\n",
       "            </dl>\n",
       "        </div>\n",
       "        \n",
       "            </div>\n",
       "        "
      ]
     },
     "metadata": {
      "application/vnd.databricks.v1+output": {
       "addedWidgets": {},
       "arguments": {},
       "data": "\n            <div>\n                <p><b>SparkSession - hive</b></p>\n                \n        <div>\n            <p><b>SparkContext</b></p>\n\n            <p><a href=\"/?o=409542029677081#setting/sparkui/0621-171819-rcvuw8hn/driver-7852679291787624063\">Spark UI</a></p>\n\n            <dl>\n              <dt>Version</dt>\n                <dd><code>v3.2.1</code></dd>\n              <dt>Master</dt>\n                <dd><code>spark://10.139.64.4:7077</code></dd>\n              <dt>AppName</dt>\n                <dd><code>Databricks Shell</code></dd>\n            </dl>\n        </div>\n        \n            </div>\n        ",
       "datasetInfos": [],
       "metadata": {},
       "removedWidgets": [],
       "textData": null,
       "type": "htmlSandbox"
      }
     },
     "output_type": "display_data"
    }
   ],
   "source": [
    "spark"
   ]
  },
  {
   "cell_type": "markdown",
   "metadata": {
    "application/vnd.databricks.v1+cell": {
     "inputWidgets": {},
     "nuid": "22d763db-5125-4337-a866-83c76617a573",
     "showTitle": false,
     "title": ""
    }
   },
   "source": [
    "## Import data from the cloud"
   ]
  },
  {
   "cell_type": "code",
   "execution_count": 0,
   "metadata": {
    "application/vnd.databricks.v1+cell": {
     "inputWidgets": {},
     "nuid": "eaa5eba1-0569-4930-9d7c-9572040dbd0a",
     "showTitle": false,
     "title": ""
    }
   },
   "outputs": [
    {
     "data": {
      "text/html": [
       "<style scoped>\n",
       "  .ansiout {\n",
       "    display: block;\n",
       "    unicode-bidi: embed;\n",
       "    white-space: pre-wrap;\n",
       "    word-wrap: break-word;\n",
       "    word-break: break-all;\n",
       "    font-family: \"Source Code Pro\", \"Menlo\", monospace;;\n",
       "    font-size: 13px;\n",
       "    color: #555;\n",
       "    margin-left: 4px;\n",
       "    line-height: 19px;\n",
       "  }\n",
       "</style>\n",
       "<div class=\"ansiout\"></div>"
      ]
     },
     "metadata": {
      "application/vnd.databricks.v1+output": {
       "addedWidgets": {},
       "arguments": {},
       "data": "<div class=\"ansiout\"></div>",
       "datasetInfos": [],
       "metadata": {},
       "removedWidgets": [],
       "type": "html"
      }
     },
     "output_type": "display_data"
    }
   ],
   "source": [
    "ad_info = spark.read.csv(\"/mnt/course-datasets/project-data/ad_info.txt\")\n",
    "category = spark.read.csv(\"/mnt/course-datasets/project-data/category.txt\")\n",
    "combined_stream = spark.read.csv(\"/mnt/course-datasets/project-data/combined_stream.txt\")\n",
    "location = spark.read.csv(\"/mnt/course-datasets/project-data/location.txt\")\n",
    "search_click = spark.read.csv(\"/mnt/course-datasets/project-data/search_click.txt\")\n",
    "search_info = spark.read.csv(\"/mnt/course-datasets/project-data/search_info.txt\")\n",
    "user_info = spark.read.csv(\"/mnt/course-datasets/project-data/user_info.txt\")"
   ]
  },
  {
   "cell_type": "markdown",
   "metadata": {
    "application/vnd.databricks.v1+cell": {
     "inputWidgets": {},
     "nuid": "3f04eb78-cf4e-42b9-a7df-eb3e63d61de9",
     "showTitle": false,
     "title": ""
    }
   },
   "source": [
    "## Clean the data"
   ]
  },
  {
   "cell_type": "code",
   "execution_count": 0,
   "metadata": {
    "application/vnd.databricks.v1+cell": {
     "inputWidgets": {},
     "nuid": "7d65e909-ca1c-4d70-9fcd-682948dfc9bf",
     "showTitle": false,
     "title": ""
    }
   },
   "outputs": [
    {
     "data": {
      "text/html": [
       "<style scoped>\n",
       "  .ansiout {\n",
       "    display: block;\n",
       "    unicode-bidi: embed;\n",
       "    white-space: pre-wrap;\n",
       "    word-wrap: break-word;\n",
       "    word-break: break-all;\n",
       "    font-family: \"Source Code Pro\", \"Menlo\", monospace;;\n",
       "    font-size: 13px;\n",
       "    color: #555;\n",
       "    margin-left: 4px;\n",
       "    line-height: 19px;\n",
       "  }\n",
       "</style>\n",
       "<div class=\"ansiout\"></div>"
      ]
     },
     "metadata": {
      "application/vnd.databricks.v1+output": {
       "addedWidgets": {},
       "arguments": {},
       "data": "<div class=\"ansiout\"></div>",
       "datasetInfos": [],
       "metadata": {},
       "removedWidgets": [],
       "type": "html"
      }
     },
     "output_type": "display_data"
    }
   ],
   "source": [
    "from pyspark.sql.functions import col, split, monotonically_increasing_id"
   ]
  },
  {
   "cell_type": "code",
   "execution_count": 0,
   "metadata": {
    "application/vnd.databricks.v1+cell": {
     "inputWidgets": {},
     "nuid": "97322118-ab36-4cf4-8652-5bc6cf5e2818",
     "showTitle": false,
     "title": ""
    }
   },
   "outputs": [
    {
     "data": {
      "text/html": [
       "<style scoped>\n",
       "  .ansiout {\n",
       "    display: block;\n",
       "    unicode-bidi: embed;\n",
       "    white-space: pre-wrap;\n",
       "    word-wrap: break-word;\n",
       "    word-break: break-all;\n",
       "    font-family: \"Source Code Pro\", \"Menlo\", monospace;;\n",
       "    font-size: 13px;\n",
       "    color: #555;\n",
       "    margin-left: 4px;\n",
       "    line-height: 19px;\n",
       "  }\n",
       "</style>\n",
       "<div class=\"ansiout\"></div>"
      ]
     },
     "metadata": {
      "application/vnd.databricks.v1+output": {
       "addedWidgets": {},
       "arguments": {},
       "data": "<div class=\"ansiout\"></div>",
       "datasetInfos": [],
       "metadata": {},
       "removedWidgets": [],
       "type": "html"
      }
     },
     "output_type": "display_data"
    }
   ],
   "source": [
    "ad_info_df = ad_info.withColumn(\"newcol\", split(col(\"_c0\"), \"\\t\")) \\\n",
    "    .withColumn(\"idx\", monotonically_increasing_id()) \\\n",
    "    .withColumn(\"AdID\", col(\"newcol\").getItem(0)) \\\n",
    "    .withColumn(\"LocationID\", col(\"newcol\").getItem(1)) \\\n",
    "    .withColumn(\"CategoryID\", col(\"newcol\").getItem(2)) \\\n",
    "    .withColumn(\"Params\", col(\"newcol\").getItem(3)) \\\n",
    "    .withColumn(\"Price\", col(\"newcol\").getItem(4)) \\\n",
    "    .withColumn(\"Title\", col(\"newcol\").getItem(5)) \\\n",
    "    .filter(col(\"idx\") >= 1) \\\n",
    "    .select(\"AdID\", \"LocationID\", \"CategoryID\", \"Params\", \"Price\", \"Title\").cache()\n",
    "\n",
    "category_df = category.withColumn(\"newcol\", split(col(\"_c0\"), \"\\t\")) \\\n",
    "    .withColumn(\"idx\", monotonically_increasing_id()) \\\n",
    "    .withColumn(\"CategoryID\", col(\"newcol\").getItem(0)) \\\n",
    "    .withColumn(\"Level\", col(\"newcol\").getItem(1)) \\\n",
    "    .withColumn(\"ParentCategoryID\", col(\"newcol\").getItem(2)) \\\n",
    "    .withColumn(\"SubcategoryID\", col(\"newcol\").getItem(3)) \\\n",
    "    .filter(col(\"idx\") >= 1) \\\n",
    "    .select(\"CategoryID\", \"Level\", \"ParentCategoryID\", \"SubcategoryID\").cache()\n",
    "\n",
    "combined_stream_df = combined_stream.withColumn(\"newcol\", split(col(\"_c0\"), \"\\t\")) \\\n",
    "    .withColumn(\"idx\", monotonically_increasing_id()) \\\n",
    "    .withColumn(\"UserID\", col(\"newcol\").getItem(0)) \\\n",
    "    .withColumn(\"IPID\", col(\"newcol\").getItem(1)) \\\n",
    "    .withColumn(\"AdID\", col(\"newcol\").getItem(2)) \\\n",
    "    .withColumn(\"ViewDate\", col(\"newcol\").getItem(3)) \\\n",
    "    .withColumn(\"Source\", col(\"newcol\").getItem(4)) \\\n",
    "    .filter(col(\"idx\") >= 1) \\\n",
    "    .select(\"UserID\", \"IPID\", \"AdID\", \"ViewDate\", \"Source\").cache()\n",
    "\n",
    "location_df = location.withColumn(\"newcol\", split(col(\"_c0\"), \"\\t\")) \\\n",
    "    .withColumn(\"idx\", monotonically_increasing_id()) \\\n",
    "    .withColumn(\"LocationID\", col(\"newcol\").getItem(0)) \\\n",
    "    .withColumn(\"Level\", col(\"newcol\").getItem(1)) \\\n",
    "    .withColumn(\"RegionID\", col(\"newcol\").getItem(2)) \\\n",
    "    .withColumn(\"CityID\", col(\"newcol\").getItem(3)) \\\n",
    "    .filter(col(\"idx\") >= 1) \\\n",
    "    .select(\"LocationID\", \"Level\", \"RegionID\", \"CityID\").cache()\n",
    "\n",
    "search_click_df = search_click.withColumn(\"newcol\", split(col(\"_c0\"), \"\\t\")) \\\n",
    "    .withColumn(\"idx\", monotonically_increasing_id()) \\\n",
    "    .withColumn(\"SearchID\", col(\"newcol\").getItem(0)) \\\n",
    "    .withColumn(\"AdID\", col(\"newcol\").getItem(1)) \\\n",
    "    .withColumn(\"Position\", col(\"newcol\").getItem(2)) \\\n",
    "    .withColumn(\"ObjectType\", col(\"newcol\").getItem(3)) \\\n",
    "    .withColumn(\"HistCTR\", col(\"newcol\").getItem(4)) \\\n",
    "    .withColumn(\"IsClick\", col(\"newcol\").getItem(5).cast(\"int\")) \\\n",
    "    .filter(col(\"idx\") >= 1) \\\n",
    "    .select(\"SearchID\", \"AdID\", \"Position\", \"ObjectType\", \"HistCTR\", \"IsClick\").cache()\n",
    "\n",
    "search_info_df = search_info.withColumn(\"newcol\", split(col(\"_c0\"), \"\\t\")) \\\n",
    "    .withColumn(\"idx\", monotonically_increasing_id()) \\\n",
    "    .withColumn(\"SearchID\", col(\"newcol\").getItem(0)) \\\n",
    "    .withColumn(\"SearchDate\", col(\"newcol\").getItem(1)) \\\n",
    "    .withColumn(\"UserID\", col(\"newcol\").getItem(2)) \\\n",
    "    .withColumn(\"IsUserLoggedOn\", col(\"newcol\").getItem(3)) \\\n",
    "    .withColumn(\"IPID\", col(\"newcol\").getItem(4)) \\\n",
    "    .withColumn(\"SearchQuery\", col(\"newcol\").getItem(5)) \\\n",
    "    .withColumn(\"SearchLocationID\", col(\"newcol\").getItem(6)) \\\n",
    "    .withColumn(\"SearchCategoryID\", col(\"newcol\").getItem(7)) \\\n",
    "    .withColumn(\"SearchParams\", col(\"newcol\").getItem(8)) \\\n",
    "    .filter(col(\"idx\") >= 1) \\\n",
    "    .select(\"SearchID\", \"SearchDate\", \"UserID\", \"IsUserLoggedOn\", \"IPID\", \"SearchQuery\", \"SearchLocationID\", \"SearchCategoryID\", \"SearchParams\").cache()\n",
    "\n",
    "user_info_df = user_info.withColumn(\"newcol\", split(col(\"_c0\"), \"\\t\")) \\\n",
    "    .withColumn(\"idx\", monotonically_increasing_id()) \\\n",
    "    .withColumn(\"UserID\", col(\"newcol\").getItem(0)) \\\n",
    "    .withColumn(\"UserAgentID\", col(\"newcol\").getItem(1)) \\\n",
    "    .withColumn(\"UserAgentFamilyID\", col(\"newcol\").getItem(2)) \\\n",
    "    .withColumn(\"UserAgentOSID\", col(\"newcol\").getItem(3)) \\\n",
    "    .withColumn(\"UserDeviceID\", col(\"newcol\").getItem(4)) \\\n",
    "    .filter(col(\"idx\") >= 1) \\\n",
    "    .select(\"UserID\", \"UserAgentID\", \"UserAgentFamilyID\", \"UserAgentOSID\", \"UserDeviceID\").cache()"
   ]
  },
  {
   "cell_type": "code",
   "execution_count": 0,
   "metadata": {
    "application/vnd.databricks.v1+cell": {
     "inputWidgets": {},
     "nuid": "6b588f32-28cc-4dce-9440-3d7a5c58d025",
     "showTitle": false,
     "title": ""
    }
   },
   "outputs": [
    {
     "data": {
      "text/html": [
       "<style scoped>\n",
       "  .ansiout {\n",
       "    display: block;\n",
       "    unicode-bidi: embed;\n",
       "    white-space: pre-wrap;\n",
       "    word-wrap: break-word;\n",
       "    word-break: break-all;\n",
       "    font-family: \"Source Code Pro\", \"Menlo\", monospace;;\n",
       "    font-size: 13px;\n",
       "    color: #555;\n",
       "    margin-left: 4px;\n",
       "    line-height: 19px;\n",
       "  }\n",
       "</style>\n",
       "<div class=\"ansiout\"></div>"
      ]
     },
     "metadata": {
      "application/vnd.databricks.v1+output": {
       "addedWidgets": {},
       "arguments": {},
       "data": "<div class=\"ansiout\"></div>",
       "datasetInfos": [],
       "metadata": {},
       "removedWidgets": [],
       "type": "html"
      }
     },
     "output_type": "display_data"
    }
   ],
   "source": [
    "# Register the view to run SparkSQL\n",
    "ad_info_df.createOrReplaceTempView(\"ad_info_view\")\n",
    "category_df.createOrReplaceTempView(\"category_view\")\n",
    "combined_stream_df.createOrReplaceTempView(\"combined_stream_view\")\n",
    "location_df.createOrReplaceTempView(\"location_view\")\n",
    "search_click_df.createOrReplaceTempView(\"search_click_view\")\n",
    "search_info_df.createOrReplaceTempView(\"search_info_view\")\n",
    "user_info_df.createOrReplaceTempView(\"user_info_view\")"
   ]
  },
  {
   "cell_type": "markdown",
   "metadata": {
    "application/vnd.databricks.v1+cell": {
     "inputWidgets": {},
     "nuid": "8e7f0e82-f637-4efb-9fb2-0eccb88f192e",
     "showTitle": false,
     "title": ""
    }
   },
   "source": [
    "## Explore questions"
   ]
  },
  {
   "cell_type": "code",
   "execution_count": 0,
   "metadata": {
    "application/vnd.databricks.v1+cell": {
     "inputWidgets": {},
     "nuid": "c02dc954-8dbd-464f-8f56-fa4134174e4c",
     "showTitle": false,
     "title": ""
    }
   },
   "outputs": [
    {
     "data": {
      "text/html": [
       "<style scoped>\n",
       "  .ansiout {\n",
       "    display: block;\n",
       "    unicode-bidi: embed;\n",
       "    white-space: pre-wrap;\n",
       "    word-wrap: break-word;\n",
       "    word-break: break-all;\n",
       "    font-family: \"Source Code Pro\", \"Menlo\", monospace;;\n",
       "    font-size: 13px;\n",
       "    color: #555;\n",
       "    margin-left: 4px;\n",
       "    line-height: 19px;\n",
       "  }\n",
       "</style>\n",
       "<div class=\"ansiout\"></div>"
      ]
     },
     "metadata": {
      "application/vnd.databricks.v1+output": {
       "addedWidgets": {},
       "arguments": {},
       "data": "<div class=\"ansiout\"></div>",
       "datasetInfos": [],
       "metadata": {},
       "removedWidgets": [],
       "type": "html"
      }
     },
     "output_type": "display_data"
    }
   ],
   "source": [
    "import numpy as np\n",
    "import pandas as pd\n",
    "import matplotlib.pyplot as plt\n",
    "import matplotlib.ticker as ticker"
   ]
  },
  {
   "cell_type": "markdown",
   "metadata": {
    "application/vnd.databricks.v1+cell": {
     "inputWidgets": {},
     "nuid": "482ebe30-9f62-4f9a-80e0-f51026919e4f",
     "showTitle": false,
     "title": ""
    }
   },
   "source": [
    "### Q1: What is the relationship between the ads price and clicks?"
   ]
  },
  {
   "cell_type": "code",
   "execution_count": 0,
   "metadata": {
    "application/vnd.databricks.v1+cell": {
     "inputWidgets": {},
     "nuid": "85f57b64-949a-4cf5-b4b2-872e544a43d7",
     "showTitle": false,
     "title": ""
    }
   },
   "outputs": [
    {
     "data": {
      "text/html": [
       "<style scoped>\n",
       "  .ansiout {\n",
       "    display: block;\n",
       "    unicode-bidi: embed;\n",
       "    white-space: pre-wrap;\n",
       "    word-wrap: break-word;\n",
       "    word-break: break-all;\n",
       "    font-family: \"Source Code Pro\", \"Menlo\", monospace;;\n",
       "    font-size: 13px;\n",
       "    color: #555;\n",
       "    margin-left: 4px;\n",
       "    line-height: 19px;\n",
       "  }\n",
       "</style>\n",
       "<div class=\"ansiout\"></div>"
      ]
     },
     "metadata": {
      "application/vnd.databricks.v1+output": {
       "addedWidgets": {},
       "arguments": {},
       "data": "<div class=\"ansiout\"></div>",
       "datasetInfos": [],
       "metadata": {},
       "removedWidgets": [],
       "type": "html"
      }
     },
     "output_type": "display_data"
    }
   ],
   "source": [
    "q1 = spark.sql(\"\"\"\n",
    "          SELECT Price, SUM(IsClick) AS TotalClick\n",
    "          FROM ad_info_view, search_click_view\n",
    "          WHERE ad_info_view.AdID = search_click_view.AdID\n",
    "          GROUP BY Price\n",
    "          HAVING TotalClick IS NOT NULL\n",
    "          ORDER BY TotalClick DESC\n",
    "          \"\"\")"
   ]
  },
  {
   "cell_type": "code",
   "execution_count": 0,
   "metadata": {
    "application/vnd.databricks.v1+cell": {
     "inputWidgets": {},
     "nuid": "b8c4b425-c9a0-4aca-9c32-704ca9f4b2f9",
     "showTitle": false,
     "title": ""
    }
   },
   "outputs": [
    {
     "data": {
      "text/html": [
       "<style scoped>\n",
       "  .ansiout {\n",
       "    display: block;\n",
       "    unicode-bidi: embed;\n",
       "    white-space: pre-wrap;\n",
       "    word-wrap: break-word;\n",
       "    word-break: break-all;\n",
       "    font-family: \"Source Code Pro\", \"Menlo\", monospace;;\n",
       "    font-size: 13px;\n",
       "    color: #555;\n",
       "    margin-left: 4px;\n",
       "    line-height: 19px;\n",
       "  }\n",
       "</style>\n",
       "<div class=\"ansiout\">+------+----------+\n",
       " Price|TotalClick|\n",
       "+------+----------+\n",
       "  null|    399062|\n",
       "  1999|     28661|\n",
       "  6790|     16949|\n",
       "  5000|     13652|\n",
       "   317|     10422|\n",
       "  5980|      9129|\n",
       "  8290|      7882|\n",
       "   799|      7036|\n",
       "  2500|      6950|\n",
       "   220|      6551|\n",
       "  7989|      6346|\n",
       "   990|      6110|\n",
       " 13840|      5903|\n",
       "  5490|      5726|\n",
       "  2990|      5646|\n",
       "163200|      5588|\n",
       " 11150|      5357|\n",
       "    75|      4969|\n",
       "  1300|      4946|\n",
       "  1550|      4538|\n",
       "+------+----------+\n",
       "only showing top 20 rows\n",
       "\n",
       "</div>"
      ]
     },
     "metadata": {
      "application/vnd.databricks.v1+output": {
       "addedWidgets": {},
       "arguments": {},
       "data": "<div class=\"ansiout\">+------+----------+\n| Price|TotalClick|\n+------+----------+\n|  null|    399062|\n|  1999|     28661|\n|  6790|     16949|\n|  5000|     13652|\n|   317|     10422|\n|  5980|      9129|\n|  8290|      7882|\n|   799|      7036|\n|  2500|      6950|\n|   220|      6551|\n|  7989|      6346|\n|   990|      6110|\n| 13840|      5903|\n|  5490|      5726|\n|  2990|      5646|\n|163200|      5588|\n| 11150|      5357|\n|    75|      4969|\n|  1300|      4946|\n|  1550|      4538|\n+------+----------+\nonly showing top 20 rows\n\n</div>",
       "datasetInfos": [],
       "metadata": {},
       "removedWidgets": [],
       "type": "html"
      }
     },
     "output_type": "display_data"
    }
   ],
   "source": [
    "q1.show()"
   ]
  },
  {
   "cell_type": "code",
   "execution_count": 0,
   "metadata": {
    "application/vnd.databricks.v1+cell": {
     "inputWidgets": {},
     "nuid": "7c10210e-f7ca-41d4-bcad-616e7f8d86ce",
     "showTitle": false,
     "title": ""
    }
   },
   "outputs": [
    {
     "data": {
      "text/html": [
       "<style scoped>\n",
       "  .ansiout {\n",
       "    display: block;\n",
       "    unicode-bidi: embed;\n",
       "    white-space: pre-wrap;\n",
       "    word-wrap: break-word;\n",
       "    word-break: break-all;\n",
       "    font-family: \"Source Code Pro\", \"Menlo\", monospace;;\n",
       "    font-size: 13px;\n",
       "    color: #555;\n",
       "    margin-left: 4px;\n",
       "    line-height: 19px;\n",
       "  }\n",
       "</style>\n",
       "<div class=\"ansiout\"></div>"
      ]
     },
     "metadata": {
      "application/vnd.databricks.v1+output": {
       "addedWidgets": {},
       "arguments": {},
       "data": "<div class=\"ansiout\"></div>",
       "datasetInfos": [],
       "metadata": {},
       "removedWidgets": [],
       "type": "html"
      }
     },
     "output_type": "display_data"
    }
   ],
   "source": [
    "# change Spark dataframe into Pandas dataframe\n",
    "q1_pd = q1.toPandas()"
   ]
  },
  {
   "cell_type": "code",
   "execution_count": 0,
   "metadata": {
    "application/vnd.databricks.v1+cell": {
     "inputWidgets": {},
     "nuid": "62dac973-05eb-4e60-9b68-4fac36fc7c4b",
     "showTitle": false,
     "title": ""
    }
   },
   "outputs": [
    {
     "data": {
      "text/html": [
       "<style scoped>\n",
       "  .ansiout {\n",
       "    display: block;\n",
       "    unicode-bidi: embed;\n",
       "    white-space: pre-wrap;\n",
       "    word-wrap: break-word;\n",
       "    word-break: break-all;\n",
       "    font-family: \"Source Code Pro\", \"Menlo\", monospace;;\n",
       "    font-size: 13px;\n",
       "    color: #555;\n",
       "    margin-left: 4px;\n",
       "    line-height: 19px;\n",
       "  }\n",
       "</style>\n",
       "<div class=\"ansiout\">Out[11]: </div>"
      ]
     },
     "metadata": {
      "application/vnd.databricks.v1+output": {
       "addedWidgets": {},
       "arguments": {},
       "data": "<div class=\"ansiout\">Out[11]: </div>",
       "datasetInfos": [],
       "metadata": {},
       "removedWidgets": [],
       "type": "html"
      }
     },
     "output_type": "display_data"
    },
    {
     "data": {
      "text/html": [
       "<div>\n",
       "<style scoped>\n",
       "    .dataframe tbody tr th:only-of-type {\n",
       "        vertical-align: middle;\n",
       "    }\n",
       "\n",
       "    .dataframe tbody tr th {\n",
       "        vertical-align: top;\n",
       "    }\n",
       "\n",
       "    .dataframe thead th {\n",
       "        text-align: right;\n",
       "    }\n",
       "</style>\n",
       "<table border=\"1\" class=\"dataframe\">\n",
       "  <thead>\n",
       "    <tr style=\"text-align: right;\">\n",
       "      <th></th>\n",
       "      <th>Price</th>\n",
       "      <th>TotalClick</th>\n",
       "    </tr>\n",
       "  </thead>\n",
       "  <tbody>\n",
       "    <tr>\n",
       "      <th>0</th>\n",
       "      <td>NaN</td>\n",
       "      <td>399062</td>\n",
       "    </tr>\n",
       "    <tr>\n",
       "      <th>1</th>\n",
       "      <td>1999</td>\n",
       "      <td>28661</td>\n",
       "    </tr>\n",
       "    <tr>\n",
       "      <th>2</th>\n",
       "      <td>6790</td>\n",
       "      <td>16949</td>\n",
       "    </tr>\n",
       "    <tr>\n",
       "      <th>3</th>\n",
       "      <td>5000</td>\n",
       "      <td>13652</td>\n",
       "    </tr>\n",
       "    <tr>\n",
       "      <th>4</th>\n",
       "      <td>317</td>\n",
       "      <td>10422</td>\n",
       "    </tr>\n",
       "    <tr>\n",
       "      <th>...</th>\n",
       "      <td>...</td>\n",
       "      <td>...</td>\n",
       "    </tr>\n",
       "    <tr>\n",
       "      <th>4731</th>\n",
       "      <td>14388</td>\n",
       "      <td>0</td>\n",
       "    </tr>\n",
       "    <tr>\n",
       "      <th>4732</th>\n",
       "      <td>1816.5</td>\n",
       "      <td>0</td>\n",
       "    </tr>\n",
       "    <tr>\n",
       "      <th>4733</th>\n",
       "      <td>5828</td>\n",
       "      <td>0</td>\n",
       "    </tr>\n",
       "    <tr>\n",
       "      <th>4734</th>\n",
       "      <td>33652</td>\n",
       "      <td>0</td>\n",
       "    </tr>\n",
       "    <tr>\n",
       "      <th>4735</th>\n",
       "      <td>29766</td>\n",
       "      <td>0</td>\n",
       "    </tr>\n",
       "  </tbody>\n",
       "</table>\n",
       "<p>4736 rows × 2 columns</p>\n",
       "</div>"
      ]
     },
     "metadata": {
      "application/vnd.databricks.v1+output": {
       "addedWidgets": {},
       "arguments": {},
       "data": "<div>\n<style scoped>\n    .dataframe tbody tr th:only-of-type {\n        vertical-align: middle;\n    }\n\n    .dataframe tbody tr th {\n        vertical-align: top;\n    }\n\n    .dataframe thead th {\n        text-align: right;\n    }\n</style>\n<table border=\"1\" class=\"dataframe\">\n  <thead>\n    <tr style=\"text-align: right;\">\n      <th></th>\n      <th>Price</th>\n      <th>TotalClick</th>\n    </tr>\n  </thead>\n  <tbody>\n    <tr>\n      <th>0</th>\n      <td>NaN</td>\n      <td>399062</td>\n    </tr>\n    <tr>\n      <th>1</th>\n      <td>1999</td>\n      <td>28661</td>\n    </tr>\n    <tr>\n      <th>2</th>\n      <td>6790</td>\n      <td>16949</td>\n    </tr>\n    <tr>\n      <th>3</th>\n      <td>5000</td>\n      <td>13652</td>\n    </tr>\n    <tr>\n      <th>4</th>\n      <td>317</td>\n      <td>10422</td>\n    </tr>\n    <tr>\n      <th>...</th>\n      <td>...</td>\n      <td>...</td>\n    </tr>\n    <tr>\n      <th>4731</th>\n      <td>14388</td>\n      <td>0</td>\n    </tr>\n    <tr>\n      <th>4732</th>\n      <td>1816.5</td>\n      <td>0</td>\n    </tr>\n    <tr>\n      <th>4733</th>\n      <td>5828</td>\n      <td>0</td>\n    </tr>\n    <tr>\n      <th>4734</th>\n      <td>33652</td>\n      <td>0</td>\n    </tr>\n    <tr>\n      <th>4735</th>\n      <td>29766</td>\n      <td>0</td>\n    </tr>\n  </tbody>\n</table>\n<p>4736 rows × 2 columns</p>\n</div>",
       "datasetInfos": [],
       "metadata": {},
       "removedWidgets": [],
       "textData": null,
       "type": "htmlSandbox"
      }
     },
     "output_type": "display_data"
    }
   ],
   "source": [
    "# change the null value into NaN\n",
    "q1_pd = q1_pd.fillna(value = np.nan)\n",
    "q1_pd"
   ]
  },
  {
   "cell_type": "code",
   "execution_count": 0,
   "metadata": {
    "application/vnd.databricks.v1+cell": {
     "inputWidgets": {},
     "nuid": "8d2145dc-ae92-45f1-8ed7-c2723bb3a119",
     "showTitle": false,
     "title": ""
    }
   },
   "outputs": [
    {
     "data": {
      "image/png": "[encoded data removed]"
     },
     "metadata": {
      "application/vnd.databricks.v1+output": {
       "addedWidgets": {},
       "arguments": {},
       "data": "data:image/png;base64,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",
       "datasetInfos": [],
       "metadata": {
        "imageDimensions": {
         "height": 317,
         "width": 645
        }
       },
       "removedWidgets": [],
       "type": "image"
      },
      "image/png": {
       "height": 317,
       "width": 645
      }
     },
     "output_type": "display_data"
    }
   ],
   "source": [
    "# plot the view\n",
    "q1_plot = q1_pd[1:21][::-1]\n",
    "plt.figure(figsize = (10, 5))\n",
    "plt.barh(q1_plot['Price'], q1_plot['TotalClick'])\n",
    "plt.xlabel('Clicks')\n",
    "plt.ylabel('Price');"
   ]
  },
  {
   "cell_type": "markdown",
   "metadata": {
    "application/vnd.databricks.v1+cell": {
     "inputWidgets": {},
     "nuid": "c562d782-a0c3-4840-a530-96b4a8190f2b",
     "showTitle": false,
     "title": ""
    }
   },
   "source": [
    "According to the bar chart, the clicks on ads is highest for the ad of price 1,999 with 28,661, and the following 3 are ads of price 6790, 5000, and 317. Most of the top 20 clicks on ads are for ads with relatively low prices. Therefore, we can say that the relationship between the ads price and clicks is not a positive correlation."
   ]
  },
  {
   "cell_type": "code",
   "execution_count": 0,
   "metadata": {
    "application/vnd.databricks.v1+cell": {
     "inputWidgets": {},
     "nuid": "831fb3db-6262-49c5-8631-9eb382ef47b8",
     "showTitle": false,
     "title": ""
    }
   },
   "outputs": [
    {
     "data": {
      "text/html": [
       "<style scoped>\n",
       "  .ansiout {\n",
       "    display: block;\n",
       "    unicode-bidi: embed;\n",
       "    white-space: pre-wrap;\n",
       "    word-wrap: break-word;\n",
       "    word-break: break-all;\n",
       "    font-family: \"Source Code Pro\", \"Menlo\", monospace;;\n",
       "    font-size: 13px;\n",
       "    color: #555;\n",
       "    margin-left: 4px;\n",
       "    line-height: 19px;\n",
       "  }\n",
       "</style>\n",
       "<div class=\"ansiout\">&lt;command-2411578679744340&gt;:2: SettingWithCopyWarning: \n",
       "A value is trying to be set on a copy of a slice from a DataFrame.\n",
       "Try using .loc[row_indexer,col_indexer] = value instead\n",
       "\n",
       "See the caveats in the documentation: https://pandas.pydata.org/pandas-docs/stable/user_guide/indexing.html#returning-a-view-versus-a-copy\n",
       "  q1_plot2[&#39;Price&#39;] = q1_plot2[&#39;Price&#39;].astype(&#39;float&#39;)\n",
       "Out[18]: </div>"
      ]
     },
     "metadata": {
      "application/vnd.databricks.v1+output": {
       "addedWidgets": {},
       "arguments": {},
       "data": "<div class=\"ansiout\">&lt;command-2411578679744340&gt;:2: SettingWithCopyWarning: \nA value is trying to be set on a copy of a slice from a DataFrame.\nTry using .loc[row_indexer,col_indexer] = value instead\n\nSee the caveats in the documentation: https://pandas.pydata.org/pandas-docs/stable/user_guide/indexing.html#returning-a-view-versus-a-copy\n  q1_plot2[&#39;Price&#39;] = q1_plot2[&#39;Price&#39;].astype(&#39;float&#39;)\nOut[18]: </div>",
       "datasetInfos": [],
       "metadata": {},
       "removedWidgets": [],
       "type": "html"
      }
     },
     "output_type": "display_data"
    },
    {
     "data": {
      "text/html": [
       "<div>\n",
       "<style scoped>\n",
       "    .dataframe tbody tr th:only-of-type {\n",
       "        vertical-align: middle;\n",
       "    }\n",
       "\n",
       "    .dataframe tbody tr th {\n",
       "        vertical-align: top;\n",
       "    }\n",
       "\n",
       "    .dataframe thead th {\n",
       "        text-align: right;\n",
       "    }\n",
       "</style>\n",
       "<table border=\"1\" class=\"dataframe\">\n",
       "  <thead>\n",
       "    <tr style=\"text-align: right;\">\n",
       "      <th></th>\n",
       "      <th>Price</th>\n",
       "      <th>TotalClick</th>\n",
       "    </tr>\n",
       "  </thead>\n",
       "  <tbody>\n",
       "    <tr>\n",
       "      <th>1</th>\n",
       "      <td>1999.0</td>\n",
       "      <td>28661</td>\n",
       "    </tr>\n",
       "    <tr>\n",
       "      <th>2</th>\n",
       "      <td>6790.0</td>\n",
       "      <td>16949</td>\n",
       "    </tr>\n",
       "    <tr>\n",
       "      <th>3</th>\n",
       "      <td>5000.0</td>\n",
       "      <td>13652</td>\n",
       "    </tr>\n",
       "    <tr>\n",
       "      <th>4</th>\n",
       "      <td>317.0</td>\n",
       "      <td>10422</td>\n",
       "    </tr>\n",
       "    <tr>\n",
       "      <th>5</th>\n",
       "      <td>5980.0</td>\n",
       "      <td>9129</td>\n",
       "    </tr>\n",
       "    <tr>\n",
       "      <th>...</th>\n",
       "      <td>...</td>\n",
       "      <td>...</td>\n",
       "    </tr>\n",
       "    <tr>\n",
       "      <th>4731</th>\n",
       "      <td>14388.0</td>\n",
       "      <td>0</td>\n",
       "    </tr>\n",
       "    <tr>\n",
       "      <th>4732</th>\n",
       "      <td>1816.5</td>\n",
       "      <td>0</td>\n",
       "    </tr>\n",
       "    <tr>\n",
       "      <th>4733</th>\n",
       "      <td>5828.0</td>\n",
       "      <td>0</td>\n",
       "    </tr>\n",
       "    <tr>\n",
       "      <th>4734</th>\n",
       "      <td>33652.0</td>\n",
       "      <td>0</td>\n",
       "    </tr>\n",
       "    <tr>\n",
       "      <th>4735</th>\n",
       "      <td>29766.0</td>\n",
       "      <td>0</td>\n",
       "    </tr>\n",
       "  </tbody>\n",
       "</table>\n",
       "<p>4734 rows × 2 columns</p>\n",
       "</div>"
      ]
     },
     "metadata": {
      "application/vnd.databricks.v1+output": {
       "addedWidgets": {},
       "arguments": {},
       "data": "<div>\n<style scoped>\n    .dataframe tbody tr th:only-of-type {\n        vertical-align: middle;\n    }\n\n    .dataframe tbody tr th {\n        vertical-align: top;\n    }\n\n    .dataframe thead th {\n        text-align: right;\n    }\n</style>\n<table border=\"1\" class=\"dataframe\">\n  <thead>\n    <tr style=\"text-align: right;\">\n      <th></th>\n      <th>Price</th>\n      <th>TotalClick</th>\n    </tr>\n  </thead>\n  <tbody>\n    <tr>\n      <th>1</th>\n      <td>1999.0</td>\n      <td>28661</td>\n    </tr>\n    <tr>\n      <th>2</th>\n      <td>6790.0</td>\n      <td>16949</td>\n    </tr>\n    <tr>\n      <th>3</th>\n      <td>5000.0</td>\n      <td>13652</td>\n    </tr>\n    <tr>\n      <th>4</th>\n      <td>317.0</td>\n      <td>10422</td>\n    </tr>\n    <tr>\n      <th>5</th>\n      <td>5980.0</td>\n      <td>9129</td>\n    </tr>\n    <tr>\n      <th>...</th>\n      <td>...</td>\n      <td>...</td>\n    </tr>\n    <tr>\n      <th>4731</th>\n      <td>14388.0</td>\n      <td>0</td>\n    </tr>\n    <tr>\n      <th>4732</th>\n      <td>1816.5</td>\n      <td>0</td>\n    </tr>\n    <tr>\n      <th>4733</th>\n      <td>5828.0</td>\n      <td>0</td>\n    </tr>\n    <tr>\n      <th>4734</th>\n      <td>33652.0</td>\n      <td>0</td>\n    </tr>\n    <tr>\n      <th>4735</th>\n      <td>29766.0</td>\n      <td>0</td>\n    </tr>\n  </tbody>\n</table>\n<p>4734 rows × 2 columns</p>\n</div>",
       "datasetInfos": [],
       "metadata": {},
       "removedWidgets": [],
       "textData": null,
       "type": "htmlSandbox"
      }
     },
     "output_type": "display_data"
    }
   ],
   "source": [
    "# change the Price column type into float\n",
    "q1_plot2 = q1_pd[(q1_pd['Price'] != '') & (q1_pd['Price'].notnull())]\n",
    "q1_plot2['Price'] = q1_plot2['Price'].astype('float')\n",
    "q1_plot2"
   ]
  },
  {
   "cell_type": "code",
   "execution_count": 0,
   "metadata": {
    "application/vnd.databricks.v1+cell": {
     "inputWidgets": {},
     "nuid": "e1230f7c-69c5-4391-9619-08922c51895b",
     "showTitle": false,
     "title": ""
    }
   },
   "outputs": [
    {
     "data": {
      "image/png": "[encoded data removed]"
     },
     "metadata": {
      "application/vnd.databricks.v1+output": {
       "addedWidgets": {},
       "arguments": {},
       "data": "data:image/png;base64,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",
       "datasetInfos": [],
       "metadata": {
        "imageDimensions": {
         "height": 320,
         "width": 624
        }
       },
       "removedWidgets": [],
       "type": "image"
      },
      "image/png": {
       "height": 320,
       "width": 624
      }
     },
     "output_type": "display_data"
    }
   ],
   "source": [
    "# plot the view\n",
    "plt.figure(figsize = (10, 5))\n",
    "plt.scatter(q1_plot2['Price'], q1_plot2['TotalClick'], alpha = 0.2)\n",
    "plt.xlabel('Price')\n",
    "plt.ylabel('Clicks');"
   ]
  },
  {
   "cell_type": "markdown",
   "metadata": {
    "application/vnd.databricks.v1+cell": {
     "inputWidgets": {},
     "nuid": "1f77e27a-a5e3-470a-89a3-7fa0462ede5f",
     "showTitle": false,
     "title": ""
    }
   },
   "source": [
    "According to the scatter plot, we can see a clear negative correlation relationship between the ads price and clicks. Most clicks are distributed on the left of the chart, which are ads with low price, while ads with high price rarely have clicks."
   ]
  },
  {
   "cell_type": "markdown",
   "metadata": {
    "application/vnd.databricks.v1+cell": {
     "inputWidgets": {},
     "nuid": "06502088-8e72-494a-91cf-d9bb2d9ba233",
     "showTitle": false,
     "title": ""
    }
   },
   "source": [
    "### Q2: What is the relationship between the ads type and search location?"
   ]
  },
  {
   "cell_type": "code",
   "execution_count": 0,
   "metadata": {
    "application/vnd.databricks.v1+cell": {
     "inputWidgets": {},
     "nuid": "c01d98a3-7327-4148-b428-751dee97b1d6",
     "showTitle": false,
     "title": ""
    }
   },
   "outputs": [
    {
     "data": {
      "text/html": [
       "<style scoped>\n",
       "  .ansiout {\n",
       "    display: block;\n",
       "    unicode-bidi: embed;\n",
       "    white-space: pre-wrap;\n",
       "    word-wrap: break-word;\n",
       "    word-break: break-all;\n",
       "    font-family: \"Source Code Pro\", \"Menlo\", monospace;;\n",
       "    font-size: 13px;\n",
       "    color: #555;\n",
       "    margin-left: 4px;\n",
       "    line-height: 19px;\n",
       "  }\n",
       "</style>\n",
       "<div class=\"ansiout\">+----------+-----+----------+\n",
       "ObjectType|Level|TotalClick|\n",
       "+----------+-----+----------+\n",
       "         3|    3|  64192184|\n",
       "         3|    2|  12609179|\n",
       "         3|    1|   1146289|\n",
       "         1|    1|      null|\n",
       "         2|    3|      null|\n",
       "         2|    2|      null|\n",
       "         1|    3|      null|\n",
       "         1|    2|      null|\n",
       "         2|    1|      null|\n",
       "+----------+-----+----------+\n",
       "\n",
       "</div>"
      ]
     },
     "metadata": {
      "application/vnd.databricks.v1+output": {
       "addedWidgets": {},
       "arguments": {},
       "data": "<div class=\"ansiout\">+----------+-----+----------+\n|ObjectType|Level|TotalClick|\n+----------+-----+----------+\n|         3|    3|  64192184|\n|         3|    2|  12609179|\n|         3|    1|   1146289|\n|         1|    1|      null|\n|         2|    3|      null|\n|         2|    2|      null|\n|         1|    3|      null|\n|         1|    2|      null|\n|         2|    1|      null|\n+----------+-----+----------+\n\n</div>",
       "datasetInfos": [],
       "metadata": {},
       "removedWidgets": [],
       "type": "html"
      }
     },
     "output_type": "display_data"
    }
   ],
   "source": [
    "type_location = spark.sql('''\n",
    "                         SELECT ObjectType, Level, SUM(IsClick) as TotalClick\n",
    "                         FROM search_click_view, category_view\n",
    "                         GROUP BY ObjectType, Level\n",
    "                         ORDER BY TotalClick DESC\n",
    "                         ''')\n",
    "\n",
    "type_location.show()"
   ]
  },
  {
   "cell_type": "code",
   "execution_count": 0,
   "metadata": {
    "application/vnd.databricks.v1+cell": {
     "inputWidgets": {},
     "nuid": "19e209e5-11cd-4664-af05-5dedb17065d6",
     "showTitle": false,
     "title": ""
    }
   },
   "outputs": [
    {
     "data": {
      "text/html": [
       "<style scoped>\n",
       "  .ansiout {\n",
       "    display: block;\n",
       "    unicode-bidi: embed;\n",
       "    white-space: pre-wrap;\n",
       "    word-wrap: break-word;\n",
       "    word-break: break-all;\n",
       "    font-family: \"Source Code Pro\", \"Menlo\", monospace;;\n",
       "    font-size: 13px;\n",
       "    color: #555;\n",
       "    margin-left: 4px;\n",
       "    line-height: 19px;\n",
       "  }\n",
       "</style>\n",
       "<div class=\"ansiout\">Out[14]: </div>"
      ]
     },
     "metadata": {
      "application/vnd.databricks.v1+output": {
       "addedWidgets": {},
       "arguments": {},
       "data": "<div class=\"ansiout\">Out[14]: </div>",
       "datasetInfos": [],
       "metadata": {},
       "removedWidgets": [],
       "type": "html"
      }
     },
     "output_type": "display_data"
    },
    {
     "data": {
      "text/html": [
       "<div>\n",
       "<style scoped>\n",
       "    .dataframe tbody tr th:only-of-type {\n",
       "        vertical-align: middle;\n",
       "    }\n",
       "\n",
       "    .dataframe tbody tr th {\n",
       "        vertical-align: top;\n",
       "    }\n",
       "\n",
       "    .dataframe thead th {\n",
       "        text-align: right;\n",
       "    }\n",
       "</style>\n",
       "<table border=\"1\" class=\"dataframe\">\n",
       "  <thead>\n",
       "    <tr style=\"text-align: right;\">\n",
       "      <th></th>\n",
       "      <th>ObjectType</th>\n",
       "      <th>Level</th>\n",
       "      <th>TotalClick</th>\n",
       "    </tr>\n",
       "  </thead>\n",
       "  <tbody>\n",
       "    <tr>\n",
       "      <th>0</th>\n",
       "      <td>3</td>\n",
       "      <td>3</td>\n",
       "      <td>64192184.0</td>\n",
       "    </tr>\n",
       "    <tr>\n",
       "      <th>1</th>\n",
       "      <td>3</td>\n",
       "      <td>2</td>\n",
       "      <td>12609179.0</td>\n",
       "    </tr>\n",
       "    <tr>\n",
       "      <th>2</th>\n",
       "      <td>3</td>\n",
       "      <td>1</td>\n",
       "      <td>1146289.0</td>\n",
       "    </tr>\n",
       "    <tr>\n",
       "      <th>3</th>\n",
       "      <td>1</td>\n",
       "      <td>1</td>\n",
       "      <td>0.0</td>\n",
       "    </tr>\n",
       "    <tr>\n",
       "      <th>4</th>\n",
       "      <td>2</td>\n",
       "      <td>3</td>\n",
       "      <td>0.0</td>\n",
       "    </tr>\n",
       "    <tr>\n",
       "      <th>5</th>\n",
       "      <td>2</td>\n",
       "      <td>2</td>\n",
       "      <td>0.0</td>\n",
       "    </tr>\n",
       "    <tr>\n",
       "      <th>6</th>\n",
       "      <td>1</td>\n",
       "      <td>2</td>\n",
       "      <td>0.0</td>\n",
       "    </tr>\n",
       "    <tr>\n",
       "      <th>7</th>\n",
       "      <td>1</td>\n",
       "      <td>3</td>\n",
       "      <td>0.0</td>\n",
       "    </tr>\n",
       "    <tr>\n",
       "      <th>8</th>\n",
       "      <td>2</td>\n",
       "      <td>1</td>\n",
       "      <td>0.0</td>\n",
       "    </tr>\n",
       "  </tbody>\n",
       "</table>\n",
       "</div>"
      ]
     },
     "metadata": {
      "application/vnd.databricks.v1+output": {
       "addedWidgets": {},
       "arguments": {},
       "data": "<div>\n<style scoped>\n    .dataframe tbody tr th:only-of-type {\n        vertical-align: middle;\n    }\n\n    .dataframe tbody tr th {\n        vertical-align: top;\n    }\n\n    .dataframe thead th {\n        text-align: right;\n    }\n</style>\n<table border=\"1\" class=\"dataframe\">\n  <thead>\n    <tr style=\"text-align: right;\">\n      <th></th>\n      <th>ObjectType</th>\n      <th>Level</th>\n      <th>TotalClick</th>\n    </tr>\n  </thead>\n  <tbody>\n    <tr>\n      <th>0</th>\n      <td>3</td>\n      <td>3</td>\n      <td>64192184.0</td>\n    </tr>\n    <tr>\n      <th>1</th>\n      <td>3</td>\n      <td>2</td>\n      <td>12609179.0</td>\n    </tr>\n    <tr>\n      <th>2</th>\n      <td>3</td>\n      <td>1</td>\n      <td>1146289.0</td>\n    </tr>\n    <tr>\n      <th>3</th>\n      <td>1</td>\n      <td>1</td>\n      <td>0.0</td>\n    </tr>\n    <tr>\n      <th>4</th>\n      <td>2</td>\n      <td>3</td>\n      <td>0.0</td>\n    </tr>\n    <tr>\n      <th>5</th>\n      <td>2</td>\n      <td>2</td>\n      <td>0.0</td>\n    </tr>\n    <tr>\n      <th>6</th>\n      <td>1</td>\n      <td>2</td>\n      <td>0.0</td>\n    </tr>\n    <tr>\n      <th>7</th>\n      <td>1</td>\n      <td>3</td>\n      <td>0.0</td>\n    </tr>\n    <tr>\n      <th>8</th>\n      <td>2</td>\n      <td>1</td>\n      <td>0.0</td>\n    </tr>\n  </tbody>\n</table>\n</div>",
       "datasetInfos": [],
       "metadata": {},
       "removedWidgets": [],
       "textData": null,
       "type": "htmlSandbox"
      }
     },
     "output_type": "display_data"
    }
   ],
   "source": [
    "# change Spark dataframe into Pandas dataframe\n",
    "type_location_df = type_location.toPandas()\n",
    "\n",
    "# change the null value into 0\n",
    "type_location_df = type_location_df.fillna(0)\n",
    "type_location_df"
   ]
  },
  {
   "cell_type": "markdown",
   "metadata": {
    "application/vnd.databricks.v1+cell": {
     "inputWidgets": {},
     "nuid": "ccff2b8d-92d0-4256-851a-d047a44d3634",
     "showTitle": false,
     "title": ""
    }
   },
   "source": [
    "The output shows that users prefer to click contextual ads."
   ]
  },
  {
   "cell_type": "code",
   "execution_count": 0,
   "metadata": {
    "application/vnd.databricks.v1+cell": {
     "inputWidgets": {},
     "nuid": "31d782b1-6f8a-455a-ab7e-7da1f8c24892",
     "showTitle": false,
     "title": ""
    }
   },
   "outputs": [
    {
     "data": {
      "text/html": [
       "<style scoped>\n",
       "  .ansiout {\n",
       "    display: block;\n",
       "    unicode-bidi: embed;\n",
       "    white-space: pre-wrap;\n",
       "    word-wrap: break-word;\n",
       "    word-break: break-all;\n",
       "    font-family: \"Source Code Pro\", \"Menlo\", monospace;;\n",
       "    font-size: 13px;\n",
       "    color: #555;\n",
       "    margin-left: 4px;\n",
       "    line-height: 19px;\n",
       "  }\n",
       "</style>\n",
       "<div class=\"ansiout\">Out[26]: </div>"
      ]
     },
     "metadata": {
      "application/vnd.databricks.v1+output": {
       "addedWidgets": {},
       "arguments": {},
       "data": "<div class=\"ansiout\">Out[26]: </div>",
       "datasetInfos": [],
       "metadata": {},
       "removedWidgets": [],
       "type": "html"
      }
     },
     "output_type": "display_data"
    },
    {
     "data": {
      "image/png": "[encoded data removed]"
     },
     "metadata": {
      "application/vnd.databricks.v1+output": {
       "addedWidgets": {},
       "arguments": {},
       "data": "data:image/png;base64,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",
       "datasetInfos": [],
       "metadata": {
        "imageDimensions": {
         "height": 270,
         "width": 362
        }
       },
       "removedWidgets": [],
       "type": "image"
      },
      "image/png": {
       "height": 270,
       "width": 362
      }
     },
     "output_type": "display_data"
    },
    {
     "data": {
      "text/html": [
       "<style scoped>\n",
       "  .ansiout {\n",
       "    display: block;\n",
       "    unicode-bidi: embed;\n",
       "    white-space: pre-wrap;\n",
       "    word-wrap: break-word;\n",
       "    word-break: break-all;\n",
       "    font-family: \"Source Code Pro\", \"Menlo\", monospace;;\n",
       "    font-size: 13px;\n",
       "    color: #555;\n",
       "    margin-left: 4px;\n",
       "    line-height: 19px;\n",
       "  }\n",
       "</style>\n",
       "<div class=\"ansiout\">&lt;AxesSubplot:xlabel=&#39;Level&#39;&gt;</div>"
      ]
     },
     "metadata": {
      "application/vnd.databricks.v1+output": {
       "addedWidgets": {},
       "arguments": {},
       "data": "<div class=\"ansiout\">&lt;AxesSubplot:xlabel=&#39;Level&#39;&gt;</div>",
       "datasetInfos": [],
       "metadata": {},
       "removedWidgets": [],
       "type": "html"
      }
     },
     "output_type": "display_data"
    }
   ],
   "source": [
    "# plot the view\n",
    "type_location_df.plot.bar(x = 'Level', y = 'TotalClick')\n",
    "plot.show()"
   ]
  },
  {
   "cell_type": "markdown",
   "metadata": {
    "application/vnd.databricks.v1+cell": {
     "inputWidgets": {},
     "nuid": "65810ff9-e89e-4059-a1bf-be69897068e2",
     "showTitle": false,
     "title": ""
    }
   },
   "source": [
    "The output shows that the number of click on the ad is highest for contextual ads in the city level with 64,192,184. The second one is the region level with total click of 12,609,179, and the third highest ads click number is 1,146,289 in coutry level. The instresting point is that only contextual ads has vailad vaules of total click. Regular free ads and highligted regular type of ads have null value concerning the total number of click. It seems that user prefer to click the ads which are relevant with the web page content."
   ]
  },
  {
   "cell_type": "markdown",
   "metadata": {
    "application/vnd.databricks.v1+cell": {
     "inputWidgets": {},
     "nuid": "83c72938-5aea-431d-a5e5-48b74d094157",
     "showTitle": false,
     "title": ""
    }
   },
   "source": [
    "### Q3: What is the relationship between ads click number and device type?"
   ]
  },
  {
   "cell_type": "code",
   "execution_count": 0,
   "metadata": {
    "application/vnd.databricks.v1+cell": {
     "inputWidgets": {},
     "nuid": "53fc0642-18d8-4845-81fa-2c5f31285347",
     "showTitle": false,
     "title": ""
    }
   },
   "outputs": [
    {
     "data": {
      "text/html": [
       "<style scoped>\n",
       "  .ansiout {\n",
       "    display: block;\n",
       "    unicode-bidi: embed;\n",
       "    white-space: pre-wrap;\n",
       "    word-wrap: break-word;\n",
       "    word-break: break-all;\n",
       "    font-family: \"Source Code Pro\", \"Menlo\", monospace;;\n",
       "    font-size: 13px;\n",
       "    color: #555;\n",
       "    margin-left: 4px;\n",
       "    line-height: 19px;\n",
       "  }\n",
       "</style>\n",
       "<div class=\"ansiout\">+------------+-------------+\n",
       "UserDeviceID|   TotalClick|\n",
       "+------------+-------------+\n",
       "          25|1970029469735|\n",
       "          64| 794876912715|\n",
       "          62| 614038360075|\n",
       "          85| 590699916035|\n",
       "          15| 364859203544|\n",
       "           9| 225767349995|\n",
       "           7|  97590460304|\n",
       "          63|  81663920938|\n",
       "          72|  36882994864|\n",
       "          43|  36872678263|\n",
       "+------------+-------------+\n",
       "\n",
       "</div>"
      ]
     },
     "metadata": {
      "application/vnd.databricks.v1+output": {
       "addedWidgets": {},
       "arguments": {},
       "data": "<div class=\"ansiout\">+------------+-------------+\n|UserDeviceID|   TotalClick|\n+------------+-------------+\n|          25|1970029469735|\n|          64| 794876912715|\n|          62| 614038360075|\n|          85| 590699916035|\n|          15| 364859203544|\n|           9| 225767349995|\n|           7|  97590460304|\n|          63|  81663920938|\n|          72|  36882994864|\n|          43|  36872678263|\n+------------+-------------+\n\n</div>",
       "datasetInfos": [],
       "metadata": {},
       "removedWidgets": [],
       "type": "html"
      }
     },
     "output_type": "display_data"
    }
   ],
   "source": [
    "ads_device = spark.sql('''\n",
    "                       SELECT UserDeviceID, SUM(IsClick) as TotalClick\n",
    "                       FROM user_info_view, search_click_view           \n",
    "                       GROUP BY UserDeviceID\n",
    "                       ORDER BY TotalClick DESC LIMIT 10\n",
    "                       ''')\n",
    "ads_device.show()"
   ]
  },
  {
   "cell_type": "code",
   "execution_count": 0,
   "metadata": {
    "application/vnd.databricks.v1+cell": {
     "inputWidgets": {},
     "nuid": "dd6f8e82-8d83-42cf-9eb8-24250da90ffa",
     "showTitle": false,
     "title": ""
    }
   },
   "outputs": [
    {
     "data": {
      "text/html": [
       "<style scoped>\n",
       "  .ansiout {\n",
       "    display: block;\n",
       "    unicode-bidi: embed;\n",
       "    white-space: pre-wrap;\n",
       "    word-wrap: break-word;\n",
       "    word-break: break-all;\n",
       "    font-family: \"Source Code Pro\", \"Menlo\", monospace;;\n",
       "    font-size: 13px;\n",
       "    color: #555;\n",
       "    margin-left: 4px;\n",
       "    line-height: 19px;\n",
       "  }\n",
       "</style>\n",
       "<div class=\"ansiout\">Out[58]: </div>"
      ]
     },
     "metadata": {
      "application/vnd.databricks.v1+output": {
       "addedWidgets": {},
       "arguments": {},
       "data": "<div class=\"ansiout\">Out[58]: </div>",
       "datasetInfos": [],
       "metadata": {},
       "removedWidgets": [],
       "type": "html"
      }
     },
     "output_type": "display_data"
    },
    {
     "data": {
      "text/html": [
       "<div>\n",
       "<style scoped>\n",
       "    .dataframe tbody tr th:only-of-type {\n",
       "        vertical-align: middle;\n",
       "    }\n",
       "\n",
       "    .dataframe tbody tr th {\n",
       "        vertical-align: top;\n",
       "    }\n",
       "\n",
       "    .dataframe thead th {\n",
       "        text-align: right;\n",
       "    }\n",
       "</style>\n",
       "<table border=\"1\" class=\"dataframe\">\n",
       "  <thead>\n",
       "    <tr style=\"text-align: right;\">\n",
       "      <th></th>\n",
       "      <th>UserDeviceID</th>\n",
       "      <th>TotalClick</th>\n",
       "    </tr>\n",
       "  </thead>\n",
       "  <tbody>\n",
       "    <tr>\n",
       "      <th>0</th>\n",
       "      <td>25</td>\n",
       "      <td>1970029469735</td>\n",
       "    </tr>\n",
       "    <tr>\n",
       "      <th>1</th>\n",
       "      <td>64</td>\n",
       "      <td>794876912715</td>\n",
       "    </tr>\n",
       "    <tr>\n",
       "      <th>2</th>\n",
       "      <td>62</td>\n",
       "      <td>614038360075</td>\n",
       "    </tr>\n",
       "    <tr>\n",
       "      <th>3</th>\n",
       "      <td>85</td>\n",
       "      <td>590699916035</td>\n",
       "    </tr>\n",
       "    <tr>\n",
       "      <th>4</th>\n",
       "      <td>15</td>\n",
       "      <td>364859203544</td>\n",
       "    </tr>\n",
       "    <tr>\n",
       "      <th>5</th>\n",
       "      <td>9</td>\n",
       "      <td>225767349995</td>\n",
       "    </tr>\n",
       "    <tr>\n",
       "      <th>6</th>\n",
       "      <td>7</td>\n",
       "      <td>97590460304</td>\n",
       "    </tr>\n",
       "    <tr>\n",
       "      <th>7</th>\n",
       "      <td>63</td>\n",
       "      <td>81663920938</td>\n",
       "    </tr>\n",
       "    <tr>\n",
       "      <th>8</th>\n",
       "      <td>72</td>\n",
       "      <td>36882994864</td>\n",
       "    </tr>\n",
       "    <tr>\n",
       "      <th>9</th>\n",
       "      <td>43</td>\n",
       "      <td>36872678263</td>\n",
       "    </tr>\n",
       "  </tbody>\n",
       "</table>\n",
       "</div>"
      ]
     },
     "metadata": {
      "application/vnd.databricks.v1+output": {
       "addedWidgets": {},
       "arguments": {},
       "data": "<div>\n<style scoped>\n    .dataframe tbody tr th:only-of-type {\n        vertical-align: middle;\n    }\n\n    .dataframe tbody tr th {\n        vertical-align: top;\n    }\n\n    .dataframe thead th {\n        text-align: right;\n    }\n</style>\n<table border=\"1\" class=\"dataframe\">\n  <thead>\n    <tr style=\"text-align: right;\">\n      <th></th>\n      <th>UserDeviceID</th>\n      <th>TotalClick</th>\n    </tr>\n  </thead>\n  <tbody>\n    <tr>\n      <th>0</th>\n      <td>25</td>\n      <td>1970029469735</td>\n    </tr>\n    <tr>\n      <th>1</th>\n      <td>64</td>\n      <td>794876912715</td>\n    </tr>\n    <tr>\n      <th>2</th>\n      <td>62</td>\n      <td>614038360075</td>\n    </tr>\n    <tr>\n      <th>3</th>\n      <td>85</td>\n      <td>590699916035</td>\n    </tr>\n    <tr>\n      <th>4</th>\n      <td>15</td>\n      <td>364859203544</td>\n    </tr>\n    <tr>\n      <th>5</th>\n      <td>9</td>\n      <td>225767349995</td>\n    </tr>\n    <tr>\n      <th>6</th>\n      <td>7</td>\n      <td>97590460304</td>\n    </tr>\n    <tr>\n      <th>7</th>\n      <td>63</td>\n      <td>81663920938</td>\n    </tr>\n    <tr>\n      <th>8</th>\n      <td>72</td>\n      <td>36882994864</td>\n    </tr>\n    <tr>\n      <th>9</th>\n      <td>43</td>\n      <td>36872678263</td>\n    </tr>\n  </tbody>\n</table>\n</div>",
       "datasetInfos": [],
       "metadata": {},
       "removedWidgets": [],
       "textData": null,
       "type": "htmlSandbox"
      }
     },
     "output_type": "display_data"
    }
   ],
   "source": [
    "# change Spark dataframe into Pandas dataframe\n",
    "ads_device_df = ads_device.toPandas()\n",
    "ads_device_df"
   ]
  },
  {
   "cell_type": "code",
   "execution_count": 0,
   "metadata": {
    "application/vnd.databricks.v1+cell": {
     "inputWidgets": {},
     "nuid": "b86b7dfe-c85e-4acc-a75c-99d98ecd8577",
     "showTitle": false,
     "title": ""
    }
   },
   "outputs": [
    {
     "data": {
      "image/png": "[encoded data removed]"
     },
     "metadata": {
      "application/vnd.databricks.v1+output": {
       "addedWidgets": {},
       "arguments": {},
       "data": "data:image/png;base64,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",
       "datasetInfos": [],
       "metadata": {
        "imageDimensions": {
         "height": 273,
         "width": 392
        }
       },
       "removedWidgets": [],
       "type": "image"
      },
      "image/png": {
       "height": 273,
       "width": 392
      }
     },
     "output_type": "display_data"
    }
   ],
   "source": [
    "# plot the view\n",
    "plt.bar(ads_device_df['UserDeviceID'], ads_device_df['TotalClick'])\n",
    "plt.xlabel('Device')\n",
    "plt.ylabel('Total Click')\n",
    "plt.show()"
   ]
  },
  {
   "cell_type": "markdown",
   "metadata": {
    "application/vnd.databricks.v1+cell": {
     "inputWidgets": {},
     "nuid": "3f99285f-2ec7-43db-a5bf-4129960e793d",
     "showTitle": false,
     "title": ""
    }
   },
   "source": [
    "The above bar plot displays the top 10 total number of clicks for ads for each type of device. Device 25 has 1970,029,469,735 ads clicks as the top 1 device type, which is two times more than the second device 64 with 794,876,912,715 clicks. Based on the result, this online advertising company could do more research for device 25 and upgrade the ads quality to attract more users."
   ]
  },
  {
   "cell_type": "markdown",
   "metadata": {
    "application/vnd.databricks.v1+cell": {
     "inputWidgets": {},
     "nuid": "7b7eab7f-ce7c-4815-a0dd-444337e68226",
     "showTitle": false,
     "title": ""
    }
   },
   "source": [
    "### Q4: What is the relationship between categories and ads click?"
   ]
  },
  {
   "cell_type": "code",
   "execution_count": 0,
   "metadata": {
    "application/vnd.databricks.v1+cell": {
     "inputWidgets": {},
     "nuid": "7ccaad69-b21a-40e3-8d31-f4cafbedfbed",
     "showTitle": false,
     "title": ""
    }
   },
   "outputs": [
    {
     "data": {
      "text/html": [
       "<style scoped>\n",
       "  .ansiout {\n",
       "    display: block;\n",
       "    unicode-bidi: embed;\n",
       "    white-space: pre-wrap;\n",
       "    word-wrap: break-word;\n",
       "    word-break: break-all;\n",
       "    font-family: \"Source Code Pro\", \"Menlo\", monospace;;\n",
       "    font-size: 13px;\n",
       "    color: #555;\n",
       "    margin-left: 4px;\n",
       "    line-height: 19px;\n",
       "  }\n",
       "</style>\n",
       "<div class=\"ansiout\">+----------+-------------+\n",
       "CategoryID|   TotalClick|\n",
       "+----------+-------------+\n",
       "        34|6382689608437|\n",
       "        22|4489023619304|\n",
       "        54|3264070536679|\n",
       "        60|2827969471785|\n",
       "        43|2242026655100|\n",
       "    250005|1807733287959|\n",
       "        38|1749600387613|\n",
       "        50|1601267152146|\n",
       "        47|1561739668559|\n",
       "        42|1541772460468|\n",
       "+----------+-------------+\n",
       "\n",
       "</div>"
      ]
     },
     "metadata": {
      "application/vnd.databricks.v1+output": {
       "addedWidgets": {},
       "arguments": {},
       "data": "<div class=\"ansiout\">+----------+-------------+\n|CategoryID|   TotalClick|\n+----------+-------------+\n|        34|6382689608437|\n|        22|4489023619304|\n|        54|3264070536679|\n|        60|2827969471785|\n|        43|2242026655100|\n|    250005|1807733287959|\n|        38|1749600387613|\n|        50|1601267152146|\n|        47|1561739668559|\n|        42|1541772460468|\n+----------+-------------+\n\n</div>",
       "datasetInfos": [],
       "metadata": {},
       "removedWidgets": [],
       "type": "html"
      }
     },
     "output_type": "display_data"
    }
   ],
   "source": [
    "category_isClick = spark.sql('''SELECT CategoryID, SUM(IsClick) as TotalClick\n",
    "                                FROM ad_info_view, search_click_view           \n",
    "                                GROUP BY CategoryID\n",
    "                                ORDER BY TotalClick DESC LIMIT 10\n",
    "                                ''')\n",
    "category_isClick.show()"
   ]
  },
  {
   "cell_type": "code",
   "execution_count": 0,
   "metadata": {
    "application/vnd.databricks.v1+cell": {
     "inputWidgets": {},
     "nuid": "399e0c53-6e4c-46a6-b040-abba014a619f",
     "showTitle": false,
     "title": ""
    }
   },
   "outputs": [
    {
     "data": {
      "text/html": [
       "<style scoped>\n",
       "  .ansiout {\n",
       "    display: block;\n",
       "    unicode-bidi: embed;\n",
       "    white-space: pre-wrap;\n",
       "    word-wrap: break-word;\n",
       "    word-break: break-all;\n",
       "    font-family: \"Source Code Pro\", \"Menlo\", monospace;;\n",
       "    font-size: 13px;\n",
       "    color: #555;\n",
       "    margin-left: 4px;\n",
       "    line-height: 19px;\n",
       "  }\n",
       "</style>\n",
       "<div class=\"ansiout\">Out[24]: </div>"
      ]
     },
     "metadata": {
      "application/vnd.databricks.v1+output": {
       "addedWidgets": {},
       "arguments": {},
       "data": "<div class=\"ansiout\">Out[24]: </div>",
       "datasetInfos": [],
       "metadata": {},
       "removedWidgets": [],
       "type": "html"
      }
     },
     "output_type": "display_data"
    },
    {
     "data": {
      "text/html": [
       "<div>\n",
       "<style scoped>\n",
       "    .dataframe tbody tr th:only-of-type {\n",
       "        vertical-align: middle;\n",
       "    }\n",
       "\n",
       "    .dataframe tbody tr th {\n",
       "        vertical-align: top;\n",
       "    }\n",
       "\n",
       "    .dataframe thead th {\n",
       "        text-align: right;\n",
       "    }\n",
       "</style>\n",
       "<table border=\"1\" class=\"dataframe\">\n",
       "  <thead>\n",
       "    <tr style=\"text-align: right;\">\n",
       "      <th></th>\n",
       "      <th>CategoryID</th>\n",
       "      <th>TotalClick</th>\n",
       "    </tr>\n",
       "  </thead>\n",
       "  <tbody>\n",
       "    <tr>\n",
       "      <th>0</th>\n",
       "      <td>34</td>\n",
       "      <td>6382689608437</td>\n",
       "    </tr>\n",
       "    <tr>\n",
       "      <th>1</th>\n",
       "      <td>22</td>\n",
       "      <td>4489023619304</td>\n",
       "    </tr>\n",
       "    <tr>\n",
       "      <th>2</th>\n",
       "      <td>54</td>\n",
       "      <td>3264070536679</td>\n",
       "    </tr>\n",
       "    <tr>\n",
       "      <th>3</th>\n",
       "      <td>60</td>\n",
       "      <td>2827969471785</td>\n",
       "    </tr>\n",
       "    <tr>\n",
       "      <th>4</th>\n",
       "      <td>43</td>\n",
       "      <td>2242026655100</td>\n",
       "    </tr>\n",
       "    <tr>\n",
       "      <th>5</th>\n",
       "      <td>250005</td>\n",
       "      <td>1807733287959</td>\n",
       "    </tr>\n",
       "    <tr>\n",
       "      <th>6</th>\n",
       "      <td>38</td>\n",
       "      <td>1749600387613</td>\n",
       "    </tr>\n",
       "    <tr>\n",
       "      <th>7</th>\n",
       "      <td>50</td>\n",
       "      <td>1601267152146</td>\n",
       "    </tr>\n",
       "    <tr>\n",
       "      <th>8</th>\n",
       "      <td>47</td>\n",
       "      <td>1561739668559</td>\n",
       "    </tr>\n",
       "    <tr>\n",
       "      <th>9</th>\n",
       "      <td>42</td>\n",
       "      <td>1541772460468</td>\n",
       "    </tr>\n",
       "  </tbody>\n",
       "</table>\n",
       "</div>"
      ]
     },
     "metadata": {
      "application/vnd.databricks.v1+output": {
       "addedWidgets": {},
       "arguments": {},
       "data": "<div>\n<style scoped>\n    .dataframe tbody tr th:only-of-type {\n        vertical-align: middle;\n    }\n\n    .dataframe tbody tr th {\n        vertical-align: top;\n    }\n\n    .dataframe thead th {\n        text-align: right;\n    }\n</style>\n<table border=\"1\" class=\"dataframe\">\n  <thead>\n    <tr style=\"text-align: right;\">\n      <th></th>\n      <th>CategoryID</th>\n      <th>TotalClick</th>\n    </tr>\n  </thead>\n  <tbody>\n    <tr>\n      <th>0</th>\n      <td>34</td>\n      <td>6382689608437</td>\n    </tr>\n    <tr>\n      <th>1</th>\n      <td>22</td>\n      <td>4489023619304</td>\n    </tr>\n    <tr>\n      <th>2</th>\n      <td>54</td>\n      <td>3264070536679</td>\n    </tr>\n    <tr>\n      <th>3</th>\n      <td>60</td>\n      <td>2827969471785</td>\n    </tr>\n    <tr>\n      <th>4</th>\n      <td>43</td>\n      <td>2242026655100</td>\n    </tr>\n    <tr>\n      <th>5</th>\n      <td>250005</td>\n      <td>1807733287959</td>\n    </tr>\n    <tr>\n      <th>6</th>\n      <td>38</td>\n      <td>1749600387613</td>\n    </tr>\n    <tr>\n      <th>7</th>\n      <td>50</td>\n      <td>1601267152146</td>\n    </tr>\n    <tr>\n      <th>8</th>\n      <td>47</td>\n      <td>1561739668559</td>\n    </tr>\n    <tr>\n      <th>9</th>\n      <td>42</td>\n      <td>1541772460468</td>\n    </tr>\n  </tbody>\n</table>\n</div>",
       "datasetInfos": [],
       "metadata": {},
       "removedWidgets": [],
       "textData": null,
       "type": "htmlSandbox"
      }
     },
     "output_type": "display_data"
    }
   ],
   "source": [
    "# change Spark dataframe into Pandas dataframe\n",
    "category_isClick_df = category_isClick.toPandas()\n",
    "category_isClick_df"
   ]
  },
  {
   "cell_type": "code",
   "execution_count": 0,
   "metadata": {
    "application/vnd.databricks.v1+cell": {
     "inputWidgets": {},
     "nuid": "36548502-f1ad-4ff4-8040-e9e05c359562",
     "showTitle": false,
     "title": ""
    }
   },
   "outputs": [
    {
     "data": {
      "image/png": "[encoded data removed]"
     },
     "metadata": {
      "application/vnd.databricks.v1+output": {
       "addedWidgets": {},
       "arguments": {},
       "data": "data:image/png;base64,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",
       "datasetInfos": [],
       "metadata": {
        "imageDimensions": {
         "height": 278,
         "width": 376
        }
       },
       "removedWidgets": [],
       "type": "image"
      },
      "image/png": {
       "height": 278,
       "width": 376
      }
     },
     "output_type": "display_data"
    }
   ],
   "source": [
    "# plot the view\n",
    "p = plt.bar(category_isClick_df['CategoryID'], category_isClick_df['TotalClick'])\n",
    "plt.xlabel('Category')\n",
    "plt.ylabel('Total Click')\n",
    "plt.title(\"Relationship between Categories and Ads Click\")\n",
    "plt.show()"
   ]
  },
  {
   "cell_type": "markdown",
   "metadata": {
    "application/vnd.databricks.v1+cell": {
     "inputWidgets": {},
     "nuid": "50dffbc5-4294-4215-bbc3-c7f2ed170133",
     "showTitle": false,
     "title": ""
    }
   },
   "source": [
    "The above bar plot shows the top 10 categories as well as their total clicks of each category. The category 34 has 6,382,689,608,437 total clicks, which is the highest one among all the categories. Obviously, the second rank is category 22 with 4,489,023,619,304 clicks. However, the last five categories (250005, 38, 50, 47, 42) among the top 10 categories possess very  similar clicks, which are all under 200 trillion and above 150 trillion clicks. Furthermore, we can notice it based on their height of the plot. Therefore, this online advertising company should focus more on category 34 and advertise it actively."
   ]
  },
  {
   "cell_type": "markdown",
   "metadata": {
    "application/vnd.databricks.v1+cell": {
     "inputWidgets": {},
     "nuid": "f109696a-2e35-418c-9e82-39a595cf1078",
     "showTitle": false,
     "title": ""
    }
   },
   "source": [
    "d\n",
    "## Executive Summary\n",
    "\n",
    "According to this online advertising company system, we defined several questions to analyze 7 large datasets with PySpark and SparkSQL. Firstly, we imported 7 large datasets from Prof. Vaisman’s Azure Blob Location. Then, we split a cluster of columns of each file into seperate columns and included the index to get the order of the dataset. Afterthat, we explored multiple datasets to analyze and visualize the defined questions. In terms of the results, we listed some suggestions to improve the service of the online advertising company."
   ]
  },
  {
   "cell_type": "markdown",
   "metadata": {
    "application/vnd.databricks.v1+cell": {
     "inputWidgets": {},
     "nuid": "6a5afa27-8073-4ad2-949d-23c68276e9a1",
     "showTitle": false,
     "title": ""
    }
   },
   "source": [
    "## Methods\n",
    "\n",
    "- Source, ingeste, cleanse, prepare the dataset: PySpark \n",
    "\n",
    "  Firstly, we used `monotonically_increasing_id()` to get the the index of each file. And then we used `split()`, `withColumn()`, `filter()`, and `select()` to split a cluster of columns of each file into seperate columns.\n",
    "\n",
    "- Analytical tools: SparkSQL, Matplotlib\n",
    "\n",
    "  We used `createOrReplaceTempView()` to create SparkSQL views. Then wrote SQL codes to query data, and visualized them with Matplotlib. \n",
    "\n",
    "- Analytical questions:\n",
    "    - What is the relationship between the ads price and clicks?\n",
    "    - What is the relationship between the ads type and search location?\n",
    "    - What is the relationship between ads click number and device type?\n",
    "    - What is the relationship between categories and ads click?"
   ]
  },
  {
   "cell_type": "markdown",
   "metadata": {
    "application/vnd.databricks.v1+cell": {
     "inputWidgets": {},
     "nuid": "772c6492-84f6-4d27-bf03-f97a7229dca0",
     "showTitle": false,
     "title": ""
    }
   },
   "source": [
    "## Challenges\n",
    "\n",
    "- Technical: \n",
    "\n",
    "  There will be a large table if we combine two or more tables into one table, which may cause a longer running time and less code efficiency. In this case, we decided to use combining queries to aviod it.\n",
    "  \n",
    "- Non-technical:\n",
    "  \n",
    "  In the beginning, we are confused about the questions we were going to explore since we wanted to come up with some significant relationships between any two elements among these 7 large datasets. Finally, by looking through and analyze the Entity Relation diagram, we have found the four meaningful and interesting relationships to explore them by PySpark and Spark SQL Engine."
   ]
  },
  {
   "cell_type": "markdown",
   "metadata": {
    "application/vnd.databricks.v1+cell": {
     "inputWidgets": {},
     "nuid": "6e8c82db-58b0-4980-b25e-299af3140a05",
     "showTitle": false,
     "title": ""
    }
   },
   "source": [
    "## Conclusion\n",
    "\n",
    "Based on this online advertising company's system dataset, we found some relations between features. There is an negative relationship between ads price and ads click number. Users prefer to click contextual ads in the city search level than that in region and country level. Thus, advertising company could develop the design of contextual ads to attract more users. Afterthat, the bar plot between total click number and device type shows that users of device 25 have the highest number of ads click. Therefore, advertising company could update the ads setting and design to satisfies differnet device user. Last but not least, we analyzed the relationship between ads category and total numer of ads click. Based on the reault, we would suggest advertising company add more ads relevant to the category 34, 22 and 54. Lastly, we used the plots to validate the result of all the dataframes that we disposed."
   ]
  },
  {
   "cell_type": "markdown",
   "metadata": {
    "application/vnd.databricks.v1+cell": {
     "inputWidgets": {},
     "nuid": "bb4aa556-b6d2-4546-b951-69ec47d2ed49",
     "showTitle": false,
     "title": ""
    }
   },
   "source": [
    "## Future work\n",
    "\n",
    "In terms of the future work, we could visualize the results with Tableau, which provides a more interpretable plot. Additionally,  we could find the original source of the data and monitor the data by setting a timer to automatically web scrape online ads data. Afterthat, we could refactor our program and create a UI page to customize providing more flexibility to users."
   ]
  },
  {
   "cell_type": "markdown",
   "metadata": {
    "application/vnd.databricks.v1+cell": {
     "inputWidgets": {},
     "nuid": "a8dfad20-0f43-4cd6-98b9-3ab2c072a77e",
     "showTitle": false,
     "title": ""
    }
   },
   "source": [
    "## Takeaways from the course\n",
    "Based on the course, we have learned how to use PySpark and Spark SQL Engine. Then, we have utilized Spark SQL to run sql queries, which implemented select, order, and sum function and so on in order to acquire targeted information. After that, we used scatter plot, and histograms based on the gained information to show the solutions of the problems.\n",
    "\n",
    "In the theoretical part, we learned how to use parallelization to accelerate the process of large datasets with MapReduce, the structure of Hadoop and other tools, the set up of AWS and MicroSoft Azure. The throretical and pratical part of this course brings us the structure and instruction to work with large datasets, dramatically helps us to prepare for the future jobs."
   ]
  }
 ],
 "metadata": {
  "application/vnd.databricks.v1+notebook": {
   "dashboards": [],
   "language": "python",
   "notebookMetadata": {
    "pythonIndentUnit": 4
   },
   "notebookName": "01-project-api",
   "notebookOrigID": 3279575520174572,
   "widgets": {}
  },
  "kernelspec": {
   "display_name": "Python 3 (ipykernel)",
   "language": "python",
   "name": "python3"
  },
  "language_info": {
   "codemirror_mode": {
    "name": "ipython",
    "version": 3
   },
   "file_extension": ".py",
   "mimetype": "text/x-python",
   "name": "python",
   "nbconvert_exporter": "python",
   "pygments_lexer": "ipython3",
   "version": "3.8.8"
  }
 },
 "nbformat": 4,
 "nbformat_minor": 1
}
